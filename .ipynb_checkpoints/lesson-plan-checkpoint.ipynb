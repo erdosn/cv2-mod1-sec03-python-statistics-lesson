{
 "cells": [
  {
   "cell_type": "markdown",
   "metadata": {},
   "source": [
    "### Questions from the class\n",
    "* identify (conditional) operators? - Jonathan - hold off for now\n",
    "* implementing statistics lab - Jonathan"
   ]
  },
  {
   "cell_type": "markdown",
   "metadata": {},
   "source": [
    "### Objectives\n",
    "YWBAT \n",
    "* write functions to calculate statistics and apply those functions to a dataframe\n",
    "* write functions to plot distributions\n",
    "* interpret data based on the statistics\n",
    "* use pandas to create new columns\n",
    "* remove outliers from data by using pandas slicing \n"
   ]
  },
  {
   "cell_type": "code",
   "execution_count": 2,
   "metadata": {},
   "outputs": [],
   "source": [
    "import numpy as np\n",
    "import pandas as pd\n",
    "\n",
    "from collections import defaultdict\n",
    "from random import shuffle\n",
    "from sklearn.datasets import load_wine\n",
    "from pprint import pprint #prettyprint\n",
    "\n",
    "import matplotlib.pyplot as plt"
   ]
  },
  {
   "cell_type": "code",
   "execution_count": 3,
   "metadata": {},
   "outputs": [
    {
     "data": {
      "text/plain": [
       "['joel', 'jonathan', 'ahmed', 'bryan', 'alex', 'nick', 'gina']"
      ]
     },
     "execution_count": 3,
     "metadata": {},
     "output_type": "execute_result"
    }
   ],
   "source": [
    "attendees = [\"joel\", \"bryan\", \"ahmed\", \"gina\", \"alex\", \"nick\", \"jonathan\"]\n",
    "shuffle(attendees)\n",
    "attendees"
   ]
  },
  {
   "cell_type": "markdown",
   "metadata": {},
   "source": [
    "### always do this step first when loading in a pre built dataset"
   ]
  },
  {
   "cell_type": "code",
   "execution_count": 4,
   "metadata": {},
   "outputs": [],
   "source": [
    "wine = load_wine() # calling the load function"
   ]
  },
  {
   "cell_type": "code",
   "execution_count": 5,
   "metadata": {},
   "outputs": [
    {
     "data": {
      "text/plain": [
       "['alcohol',\n",
       " 'malic_acid',\n",
       " 'ash',\n",
       " 'alcalinity_of_ash',\n",
       " 'magnesium',\n",
       " 'total_phenols',\n",
       " 'flavanoids',\n",
       " 'nonflavanoid_phenols',\n",
       " 'proanthocyanins',\n",
       " 'color_intensity',\n",
       " 'hue',\n",
       " 'od280/od315_of_diluted_wines',\n",
       " 'proline',\n",
       " 'target']"
      ]
     },
     "execution_count": 5,
     "metadata": {},
     "output_type": "execute_result"
    }
   ],
   "source": [
    "data = wine.data # x_vec-values\n",
    "target = wine.target # y-values of our data set\n",
    "\n",
    "columns = wine.feature_names + [\"target\"] # feature_names = names of columns \n",
    "columns"
   ]
  },
  {
   "cell_type": "code",
   "execution_count": 6,
   "metadata": {},
   "outputs": [
    {
     "data": {
      "text/plain": [
       "(178, 14)"
      ]
     },
     "execution_count": 6,
     "metadata": {},
     "output_type": "execute_result"
    }
   ],
   "source": [
    "full_data = np.column_stack((data, target)) # numpy method that vertically concatenates two arrays\n",
    "full_data.shape"
   ]
  },
  {
   "cell_type": "code",
   "execution_count": 7,
   "metadata": {},
   "outputs": [
    {
     "data": {
      "text/html": [
       "<div>\n",
       "<style scoped>\n",
       "    .dataframe tbody tr th:only-of-type {\n",
       "        vertical-align: middle;\n",
       "    }\n",
       "\n",
       "    .dataframe tbody tr th {\n",
       "        vertical-align: top;\n",
       "    }\n",
       "\n",
       "    .dataframe thead th {\n",
       "        text-align: right;\n",
       "    }\n",
       "</style>\n",
       "<table border=\"1\" class=\"dataframe\">\n",
       "  <thead>\n",
       "    <tr style=\"text-align: right;\">\n",
       "      <th></th>\n",
       "      <th>alcohol</th>\n",
       "      <th>malic_acid</th>\n",
       "      <th>ash</th>\n",
       "      <th>alcalinity_of_ash</th>\n",
       "      <th>magnesium</th>\n",
       "      <th>total_phenols</th>\n",
       "      <th>flavanoids</th>\n",
       "      <th>nonflavanoid_phenols</th>\n",
       "      <th>proanthocyanins</th>\n",
       "      <th>color_intensity</th>\n",
       "      <th>hue</th>\n",
       "      <th>od280/od315_of_diluted_wines</th>\n",
       "      <th>proline</th>\n",
       "      <th>target</th>\n",
       "    </tr>\n",
       "  </thead>\n",
       "  <tbody>\n",
       "    <tr>\n",
       "      <th>0</th>\n",
       "      <td>14.23</td>\n",
       "      <td>1.71</td>\n",
       "      <td>2.43</td>\n",
       "      <td>15.6</td>\n",
       "      <td>127.0</td>\n",
       "      <td>2.80</td>\n",
       "      <td>3.06</td>\n",
       "      <td>0.28</td>\n",
       "      <td>2.29</td>\n",
       "      <td>5.64</td>\n",
       "      <td>1.04</td>\n",
       "      <td>3.92</td>\n",
       "      <td>1065.0</td>\n",
       "      <td>0.0</td>\n",
       "    </tr>\n",
       "    <tr>\n",
       "      <th>1</th>\n",
       "      <td>13.20</td>\n",
       "      <td>1.78</td>\n",
       "      <td>2.14</td>\n",
       "      <td>11.2</td>\n",
       "      <td>100.0</td>\n",
       "      <td>2.65</td>\n",
       "      <td>2.76</td>\n",
       "      <td>0.26</td>\n",
       "      <td>1.28</td>\n",
       "      <td>4.38</td>\n",
       "      <td>1.05</td>\n",
       "      <td>3.40</td>\n",
       "      <td>1050.0</td>\n",
       "      <td>0.0</td>\n",
       "    </tr>\n",
       "    <tr>\n",
       "      <th>2</th>\n",
       "      <td>13.16</td>\n",
       "      <td>2.36</td>\n",
       "      <td>2.67</td>\n",
       "      <td>18.6</td>\n",
       "      <td>101.0</td>\n",
       "      <td>2.80</td>\n",
       "      <td>3.24</td>\n",
       "      <td>0.30</td>\n",
       "      <td>2.81</td>\n",
       "      <td>5.68</td>\n",
       "      <td>1.03</td>\n",
       "      <td>3.17</td>\n",
       "      <td>1185.0</td>\n",
       "      <td>0.0</td>\n",
       "    </tr>\n",
       "    <tr>\n",
       "      <th>3</th>\n",
       "      <td>14.37</td>\n",
       "      <td>1.95</td>\n",
       "      <td>2.50</td>\n",
       "      <td>16.8</td>\n",
       "      <td>113.0</td>\n",
       "      <td>3.85</td>\n",
       "      <td>3.49</td>\n",
       "      <td>0.24</td>\n",
       "      <td>2.18</td>\n",
       "      <td>7.80</td>\n",
       "      <td>0.86</td>\n",
       "      <td>3.45</td>\n",
       "      <td>1480.0</td>\n",
       "      <td>0.0</td>\n",
       "    </tr>\n",
       "    <tr>\n",
       "      <th>4</th>\n",
       "      <td>13.24</td>\n",
       "      <td>2.59</td>\n",
       "      <td>2.87</td>\n",
       "      <td>21.0</td>\n",
       "      <td>118.0</td>\n",
       "      <td>2.80</td>\n",
       "      <td>2.69</td>\n",
       "      <td>0.39</td>\n",
       "      <td>1.82</td>\n",
       "      <td>4.32</td>\n",
       "      <td>1.04</td>\n",
       "      <td>2.93</td>\n",
       "      <td>735.0</td>\n",
       "      <td>0.0</td>\n",
       "    </tr>\n",
       "  </tbody>\n",
       "</table>\n",
       "</div>"
      ],
      "text/plain": [
       "   alcohol  malic_acid   ash  alcalinity_of_ash  magnesium  total_phenols  \\\n",
       "0    14.23        1.71  2.43               15.6      127.0           2.80   \n",
       "1    13.20        1.78  2.14               11.2      100.0           2.65   \n",
       "2    13.16        2.36  2.67               18.6      101.0           2.80   \n",
       "3    14.37        1.95  2.50               16.8      113.0           3.85   \n",
       "4    13.24        2.59  2.87               21.0      118.0           2.80   \n",
       "\n",
       "   flavanoids  nonflavanoid_phenols  proanthocyanins  color_intensity   hue  \\\n",
       "0        3.06                  0.28             2.29             5.64  1.04   \n",
       "1        2.76                  0.26             1.28             4.38  1.05   \n",
       "2        3.24                  0.30             2.81             5.68  1.03   \n",
       "3        3.49                  0.24             2.18             7.80  0.86   \n",
       "4        2.69                  0.39             1.82             4.32  1.04   \n",
       "\n",
       "   od280/od315_of_diluted_wines  proline  target  \n",
       "0                          3.92   1065.0     0.0  \n",
       "1                          3.40   1050.0     0.0  \n",
       "2                          3.17   1185.0     0.0  \n",
       "3                          3.45   1480.0     0.0  \n",
       "4                          2.93    735.0     0.0  "
      ]
     },
     "execution_count": 7,
     "metadata": {},
     "output_type": "execute_result"
    }
   ],
   "source": [
    "df = pd.DataFrame(full_data, columns=columns)\n",
    "df.head()"
   ]
  },
  {
   "cell_type": "markdown",
   "metadata": {},
   "source": [
    "## Write a function"
   ]
  },
  {
   "cell_type": "code",
   "execution_count": 8,
   "metadata": {},
   "outputs": [],
   "source": [
    "### write a function that takes in a load method \n",
    "### from sklearn datasets and returns a dataframe\n",
    "### like the one above\n",
    "def load_dataset(load_set=None):\n",
    "    data_set = load_set() # data_set is a dictionary from load_set()\n",
    "    data = data_set.data # x_vec-values\n",
    "    target = data_set.target # y-values of our data set\n",
    "    columns = data_set.feature_names + [\"target\"] # feature_names = names of columns \n",
    "    full_data = np.column_stack([data, target]) # list of numpy arrays\n",
    "    df = pd.DataFrame(full_data, columns=columns) # create dataframes\n",
    "    return df"
   ]
  },
  {
   "cell_type": "code",
   "execution_count": 9,
   "metadata": {},
   "outputs": [
    {
     "data": {
      "text/html": [
       "<div>\n",
       "<style scoped>\n",
       "    .dataframe tbody tr th:only-of-type {\n",
       "        vertical-align: middle;\n",
       "    }\n",
       "\n",
       "    .dataframe tbody tr th {\n",
       "        vertical-align: top;\n",
       "    }\n",
       "\n",
       "    .dataframe thead th {\n",
       "        text-align: right;\n",
       "    }\n",
       "</style>\n",
       "<table border=\"1\" class=\"dataframe\">\n",
       "  <thead>\n",
       "    <tr style=\"text-align: right;\">\n",
       "      <th></th>\n",
       "      <th>alcohol</th>\n",
       "      <th>malic_acid</th>\n",
       "      <th>ash</th>\n",
       "      <th>alcalinity_of_ash</th>\n",
       "      <th>magnesium</th>\n",
       "      <th>total_phenols</th>\n",
       "      <th>flavanoids</th>\n",
       "      <th>nonflavanoid_phenols</th>\n",
       "      <th>proanthocyanins</th>\n",
       "      <th>color_intensity</th>\n",
       "      <th>hue</th>\n",
       "      <th>od280/od315_of_diluted_wines</th>\n",
       "      <th>proline</th>\n",
       "      <th>target</th>\n",
       "    </tr>\n",
       "  </thead>\n",
       "  <tbody>\n",
       "    <tr>\n",
       "      <th>0</th>\n",
       "      <td>14.23</td>\n",
       "      <td>1.71</td>\n",
       "      <td>2.43</td>\n",
       "      <td>15.6</td>\n",
       "      <td>127.0</td>\n",
       "      <td>2.80</td>\n",
       "      <td>3.06</td>\n",
       "      <td>0.28</td>\n",
       "      <td>2.29</td>\n",
       "      <td>5.64</td>\n",
       "      <td>1.04</td>\n",
       "      <td>3.92</td>\n",
       "      <td>1065.0</td>\n",
       "      <td>0.0</td>\n",
       "    </tr>\n",
       "    <tr>\n",
       "      <th>1</th>\n",
       "      <td>13.20</td>\n",
       "      <td>1.78</td>\n",
       "      <td>2.14</td>\n",
       "      <td>11.2</td>\n",
       "      <td>100.0</td>\n",
       "      <td>2.65</td>\n",
       "      <td>2.76</td>\n",
       "      <td>0.26</td>\n",
       "      <td>1.28</td>\n",
       "      <td>4.38</td>\n",
       "      <td>1.05</td>\n",
       "      <td>3.40</td>\n",
       "      <td>1050.0</td>\n",
       "      <td>0.0</td>\n",
       "    </tr>\n",
       "    <tr>\n",
       "      <th>2</th>\n",
       "      <td>13.16</td>\n",
       "      <td>2.36</td>\n",
       "      <td>2.67</td>\n",
       "      <td>18.6</td>\n",
       "      <td>101.0</td>\n",
       "      <td>2.80</td>\n",
       "      <td>3.24</td>\n",
       "      <td>0.30</td>\n",
       "      <td>2.81</td>\n",
       "      <td>5.68</td>\n",
       "      <td>1.03</td>\n",
       "      <td>3.17</td>\n",
       "      <td>1185.0</td>\n",
       "      <td>0.0</td>\n",
       "    </tr>\n",
       "    <tr>\n",
       "      <th>3</th>\n",
       "      <td>14.37</td>\n",
       "      <td>1.95</td>\n",
       "      <td>2.50</td>\n",
       "      <td>16.8</td>\n",
       "      <td>113.0</td>\n",
       "      <td>3.85</td>\n",
       "      <td>3.49</td>\n",
       "      <td>0.24</td>\n",
       "      <td>2.18</td>\n",
       "      <td>7.80</td>\n",
       "      <td>0.86</td>\n",
       "      <td>3.45</td>\n",
       "      <td>1480.0</td>\n",
       "      <td>0.0</td>\n",
       "    </tr>\n",
       "    <tr>\n",
       "      <th>4</th>\n",
       "      <td>13.24</td>\n",
       "      <td>2.59</td>\n",
       "      <td>2.87</td>\n",
       "      <td>21.0</td>\n",
       "      <td>118.0</td>\n",
       "      <td>2.80</td>\n",
       "      <td>2.69</td>\n",
       "      <td>0.39</td>\n",
       "      <td>1.82</td>\n",
       "      <td>4.32</td>\n",
       "      <td>1.04</td>\n",
       "      <td>2.93</td>\n",
       "      <td>735.0</td>\n",
       "      <td>0.0</td>\n",
       "    </tr>\n",
       "  </tbody>\n",
       "</table>\n",
       "</div>"
      ],
      "text/plain": [
       "   alcohol  malic_acid   ash  alcalinity_of_ash  magnesium  total_phenols  \\\n",
       "0    14.23        1.71  2.43               15.6      127.0           2.80   \n",
       "1    13.20        1.78  2.14               11.2      100.0           2.65   \n",
       "2    13.16        2.36  2.67               18.6      101.0           2.80   \n",
       "3    14.37        1.95  2.50               16.8      113.0           3.85   \n",
       "4    13.24        2.59  2.87               21.0      118.0           2.80   \n",
       "\n",
       "   flavanoids  nonflavanoid_phenols  proanthocyanins  color_intensity   hue  \\\n",
       "0        3.06                  0.28             2.29             5.64  1.04   \n",
       "1        2.76                  0.26             1.28             4.38  1.05   \n",
       "2        3.24                  0.30             2.81             5.68  1.03   \n",
       "3        3.49                  0.24             2.18             7.80  0.86   \n",
       "4        2.69                  0.39             1.82             4.32  1.04   \n",
       "\n",
       "   od280/od315_of_diluted_wines  proline  target  \n",
       "0                          3.92   1065.0     0.0  \n",
       "1                          3.40   1050.0     0.0  \n",
       "2                          3.17   1185.0     0.0  \n",
       "3                          3.45   1480.0     0.0  \n",
       "4                          2.93    735.0     0.0  "
      ]
     },
     "execution_count": 9,
     "metadata": {},
     "output_type": "execute_result"
    }
   ],
   "source": [
    "df = load_dataset(load_set=load_wine)\n",
    "df.head()"
   ]
  },
  {
   "cell_type": "markdown",
   "metadata": {},
   "source": [
    "### Let's look at a description"
   ]
  },
  {
   "cell_type": "code",
   "execution_count": 10,
   "metadata": {},
   "outputs": [
    {
     "name": "stdout",
     "output_type": "stream",
     "text": [
      "('.. _wine_dataset:\\n'\n",
      " '\\n'\n",
      " 'Wine recognition dataset\\n'\n",
      " '------------------------\\n'\n",
      " '\\n'\n",
      " '**Data Set Characteristics:**\\n'\n",
      " '\\n'\n",
      " '    :Number of Instances: 178 (50 in each of three classes)\\n'\n",
      " '    :Number of Attributes: 13 numeric, predictive attributes and the class\\n'\n",
      " '    :Attribute Information:\\n'\n",
      " ' \\t\\t- Alcohol\\n'\n",
      " ' \\t\\t- Malic acid\\n'\n",
      " ' \\t\\t- Ash\\n'\n",
      " '\\t\\t- Alcalinity of ash  \\n'\n",
      " ' \\t\\t- Magnesium\\n'\n",
      " '\\t\\t- Total phenols\\n'\n",
      " ' \\t\\t- Flavanoids\\n'\n",
      " ' \\t\\t- Nonflavanoid phenols\\n'\n",
      " ' \\t\\t- Proanthocyanins\\n'\n",
      " '\\t\\t- Color intensity\\n'\n",
      " ' \\t\\t- Hue\\n'\n",
      " ' \\t\\t- OD280/OD315 of diluted wines\\n'\n",
      " ' \\t\\t- Proline\\n'\n",
      " '\\n'\n",
      " '    - class:\\n'\n",
      " '            - class_0\\n'\n",
      " '            - class_1\\n'\n",
      " '            - class_2\\n'\n",
      " '\\t\\t\\n'\n",
      " '    :Summary Statistics:\\n'\n",
      " '    \\n'\n",
      " '    ============================= ==== ===== ======= =====\\n'\n",
      " '                                   Min   Max   Mean     SD\\n'\n",
      " '    ============================= ==== ===== ======= =====\\n'\n",
      " '    Alcohol:                      11.0  14.8    13.0   0.8\\n'\n",
      " '    Malic Acid:                   0.74  5.80    2.34  1.12\\n'\n",
      " '    Ash:                          1.36  3.23    2.36  0.27\\n'\n",
      " '    Alcalinity of Ash:            10.6  30.0    19.5   3.3\\n'\n",
      " '    Magnesium:                    70.0 162.0    99.7  14.3\\n'\n",
      " '    Total Phenols:                0.98  3.88    2.29  0.63\\n'\n",
      " '    Flavanoids:                   0.34  5.08    2.03  1.00\\n'\n",
      " '    Nonflavanoid Phenols:         0.13  0.66    0.36  0.12\\n'\n",
      " '    Proanthocyanins:              0.41  3.58    1.59  0.57\\n'\n",
      " '    Colour Intensity:              1.3  13.0     5.1   2.3\\n'\n",
      " '    Hue:                          0.48  1.71    0.96  0.23\\n'\n",
      " '    OD280/OD315 of diluted wines: 1.27  4.00    2.61  0.71\\n'\n",
      " '    Proline:                       278  1680     746   315\\n'\n",
      " '    ============================= ==== ===== ======= =====\\n'\n",
      " '\\n'\n",
      " '    :Missing Attribute Values: None\\n'\n",
      " '    :Class Distribution: class_0 (59), class_1 (71), class_2 (48)\\n'\n",
      " '    :Creator: R.A. Fisher\\n'\n",
      " '    :Donor: Michael Marshall (MARSHALL%PLU@io.arc.nasa.gov)\\n'\n",
      " '    :Date: July, 1988\\n'\n",
      " '\\n'\n",
      " 'This is a copy of UCI ML Wine recognition datasets.\\n'\n",
      " 'https://archive.ics.uci.edu/ml/machine-learning-databases/wine/wine.data\\n'\n",
      " '\\n'\n",
      " 'The data is the results of a chemical analysis of wines grown in the same\\n'\n",
      " 'region in Italy by three different cultivators. There are thirteen '\n",
      " 'different\\n'\n",
      " 'measurements taken for different constituents found in the three types of\\n'\n",
      " 'wine.\\n'\n",
      " '\\n'\n",
      " 'Original Owners: \\n'\n",
      " '\\n'\n",
      " 'Forina, M. et al, PARVUS - \\n'\n",
      " 'An Extendible Package for Data Exploration, Classification and '\n",
      " 'Correlation. \\n'\n",
      " 'Institute of Pharmaceutical and Food Analysis and Technologies,\\n'\n",
      " 'Via Brigata Salerno, 16147 Genoa, Italy.\\n'\n",
      " '\\n'\n",
      " 'Citation:\\n'\n",
      " '\\n'\n",
      " 'Lichman, M. (2013). UCI Machine Learning Repository\\n'\n",
      " '[http://archive.ics.uci.edu/ml]. Irvine, CA: University of California,\\n'\n",
      " 'School of Information and Computer Science. \\n'\n",
      " '\\n'\n",
      " '.. topic:: References\\n'\n",
      " '\\n'\n",
      " '  (1) S. Aeberhard, D. Coomans and O. de Vel, \\n'\n",
      " '  Comparison of Classifiers in High Dimensional Settings, \\n'\n",
      " '  Tech. Rep. no. 92-02, (1992), Dept. of Computer Science and Dept. of  \\n'\n",
      " '  Mathematics and Statistics, James Cook University of North Queensland. \\n'\n",
      " '  (Also submitted to Technometrics). \\n'\n",
      " '\\n'\n",
      " '  The data was used with many others for comparing various \\n'\n",
      " '  classifiers. The classes are separable, though only RDA \\n'\n",
      " '  has achieved 100% correct classification. \\n'\n",
      " '  (RDA : 100%, QDA 99.4%, LDA 98.9%, 1NN 96.1% (z-transformed data)) \\n'\n",
      " '  (All results using the leave-one-out technique) \\n'\n",
      " '\\n'\n",
      " '  (2) S. Aeberhard, D. Coomans and O. de Vel, \\n'\n",
      " '  \"THE CLASSIFICATION PERFORMANCE OF RDA\" \\n'\n",
      " '  Tech. Rep. no. 92-01, (1992), Dept. of Computer Science and Dept. of \\n'\n",
      " '  Mathematics and Statistics, James Cook University of North Queensland. \\n'\n",
      " '  (Also submitted to Journal of Chemometrics).\\n')\n"
     ]
    }
   ],
   "source": [
    "pprint(wine.DESCR)"
   ]
  },
  {
   "cell_type": "code",
   "execution_count": 12,
   "metadata": {},
   "outputs": [
    {
     "data": {
      "text/plain": [
       "(2.3363483146067416, 2.336348314606741)"
      ]
     },
     "execution_count": 12,
     "metadata": {},
     "output_type": "execute_result"
    }
   ],
   "source": [
    "### calculate the mean of malic acid without using .mean() or np.mean()\n",
    "summ = np.sum(df[\"malic_acid\"])\n",
    "counts = df[\"malic_acid\"].shape[0]\n",
    "mean_malic_acid = 1.0*summ/counts\n",
    "mean_malic_acid, np.mean(df[\"malic_acid\"])"
   ]
  },
  {
   "cell_type": "code",
   "execution_count": 16,
   "metadata": {},
   "outputs": [
    {
     "data": {
      "text/plain": [
       "(1.1140036269797893, 1.1140036269797895)"
      ]
     },
     "execution_count": 16,
     "metadata": {},
     "output_type": "execute_result"
    }
   ],
   "source": [
    "### calculate the standard deviation of malic acid without using .std() or np.std()\n",
    "mean = np.sum(df[\"malic_acid\"])/len(df[\"malic_acid\"])\n",
    "counts = len(df[\"malic_acid\"])\n",
    "distances_squared = (df[\"malic_acid\"] - mean)**2\n",
    "sum_dist_squared = np.sum(distances_squared)\n",
    "mean_dist_squred = sum_dist_squared/counts\n",
    "\n",
    "\n",
    "std_malic_acid = np.sqrt(mean_dist_squred)\n",
    "std_malic_acid, np.std(df[\"malic_acid\"])"
   ]
  },
  {
   "cell_type": "code",
   "execution_count": 19,
   "metadata": {},
   "outputs": [],
   "source": [
    "### write functions that takes in a list (array) and returns the mean and standard deviation\n",
    "def mean_function(arr):\n",
    "    summ = np.sum(arr)\n",
    "    counts = arr.shape[0]\n",
    "    mean = 1.0*summ/counts\n",
    "    return mean\n",
    "\n",
    "def std_function(arr):\n",
    "    mean = mean_function(arr)\n",
    "    counts = len(arr)\n",
    "    distances_squared = (arr - mean)**2\n",
    "    sum_dist_squared = np.sum(distances_squared)\n",
    "    mean_dist_squred = sum_dist_squared/counts\n",
    "    std_malic_acid = np.sqrt(mean_dist_squred)\n",
    "    return std_malic_acid"
   ]
  },
  {
   "cell_type": "code",
   "execution_count": 20,
   "metadata": {},
   "outputs": [
    {
     "data": {
      "text/plain": [
       "(2.3363483146067416, 1.1140036269797893)"
      ]
     },
     "execution_count": 20,
     "metadata": {},
     "output_type": "execute_result"
    }
   ],
   "source": [
    "mean_function(df[\"malic_acid\"]), std_function(df[\"malic_acid\"])"
   ]
  },
  {
   "cell_type": "code",
   "execution_count": 22,
   "metadata": {},
   "outputs": [
    {
     "data": {
      "text/plain": [
       "(array([ 8., 10., 15., 44., 23., 10.,  8.,  8.,  5.,  9.,  5.,  6., 10.,\n",
       "         4.,  4.,  3.,  2.,  1.,  1.,  2.]),\n",
       " array([0.74 , 0.993, 1.246, 1.499, 1.752, 2.005, 2.258, 2.511, 2.764,\n",
       "        3.017, 3.27 , 3.523, 3.776, 4.029, 4.282, 4.535, 4.788, 5.041,\n",
       "        5.294, 5.547, 5.8  ]),\n",
       " <a list of 20 Patch objects>)"
      ]
     },
     "execution_count": 22,
     "metadata": {},
     "output_type": "execute_result"
    },
    {
     "data": {
      "image/png": "[encoded data removed]",
      "text/plain": [
       "<matplotlib.figure.Figure at 0x1a16b499e8>"
      ]
     },
     "metadata": {},
     "output_type": "display_data"
    }
   ],
   "source": [
    "plt.hist(df[\"malic_acid\"], bins=20)"
   ]
  },
  {
   "cell_type": "markdown",
   "metadata": {},
   "source": [
    "### Plot Distribution"
   ]
  },
  {
   "cell_type": "code",
   "execution_count": 26,
   "metadata": {},
   "outputs": [
    {
     "data": {
      "image/png": "[encoded data removed]",
      "text/plain": [
       "<matplotlib.figure.Figure at 0x1a1a8084e0>"
      ]
     },
     "metadata": {},
     "output_type": "display_data"
    }
   ],
   "source": [
    "### plot the distribution of alcohol content\n",
    "### code goes here\n",
    "plt.figure(figsize=(8, 8))\n",
    "plt.hist(df[\"alcohol\"], label=\"alcohol\", alpha=0.5, bins=20)\n",
    "plt.xlabel(\"alcohol content\")\n",
    "plt.ylabel(\"counts\")\n",
    "plt.title(\"alcohol content distribution\")\n",
    "plt.legend()\n",
    "plt.show()"
   ]
  },
  {
   "cell_type": "code",
   "execution_count": 39,
   "metadata": {},
   "outputs": [],
   "source": [
    "### write a function that takes in a dataframe and column name and returns a histogram\n",
    "### the histogram must have labeled axes and a title\n",
    "\n",
    "def histogram(ddddf, cname, figsize=(8, 8), alpha=0.5, bins=20, color='blue'):\n",
    "    plt.figure(figsize=figsize)\n",
    "    plt.hist(ddddf[cname], color=color, label=cname, alpha=alpha, bins=bins)\n",
    "    plt.xlabel(cname)\n",
    "    plt.ylabel(\"counts\")\n",
    "    plt.title(\"{} distribution\".format(cname))\n",
    "    plt.legend()\n",
    "    plt.show()\n",
    "    pass"
   ]
  },
  {
   "cell_type": "code",
   "execution_count": 42,
   "metadata": {},
   "outputs": [
    {
     "data": {
      "image/png": "[encoded data removed]",
      "text/plain": [
       "<matplotlib.figure.Figure at 0x1a1b6d0908>"
      ]
     },
     "metadata": {},
     "output_type": "display_data"
    }
   ],
   "source": [
    "histogram(ddddf=df, color='purple', figsize=(12, 12), alpha=0.5, bins=40 , cname=\"malic_acid\")"
   ]
  },
  {
   "cell_type": "markdown",
   "metadata": {},
   "source": [
    "### Creating columns with pandas"
   ]
  },
  {
   "cell_type": "code",
   "execution_count": 47,
   "metadata": {},
   "outputs": [
    {
     "data": {
      "text/html": [
       "<div>\n",
       "<style scoped>\n",
       "    .dataframe tbody tr th:only-of-type {\n",
       "        vertical-align: middle;\n",
       "    }\n",
       "\n",
       "    .dataframe tbody tr th {\n",
       "        vertical-align: top;\n",
       "    }\n",
       "\n",
       "    .dataframe thead th {\n",
       "        text-align: right;\n",
       "    }\n",
       "</style>\n",
       "<table border=\"1\" class=\"dataframe\">\n",
       "  <thead>\n",
       "    <tr style=\"text-align: right;\">\n",
       "      <th></th>\n",
       "      <th>alcohol</th>\n",
       "      <th>malic_acid</th>\n",
       "      <th>ash</th>\n",
       "      <th>alcalinity_of_ash</th>\n",
       "      <th>magnesium</th>\n",
       "      <th>total_phenols</th>\n",
       "      <th>flavanoids</th>\n",
       "      <th>nonflavanoid_phenols</th>\n",
       "      <th>proanthocyanins</th>\n",
       "      <th>color_intensity</th>\n",
       "      <th>hue</th>\n",
       "      <th>od280/od315_of_diluted_wines</th>\n",
       "      <th>proline</th>\n",
       "      <th>target</th>\n",
       "      <th>ash_to_malic_acid</th>\n",
       "    </tr>\n",
       "  </thead>\n",
       "  <tbody>\n",
       "    <tr>\n",
       "      <th>0</th>\n",
       "      <td>14.23</td>\n",
       "      <td>1.71</td>\n",
       "      <td>2.43</td>\n",
       "      <td>15.6</td>\n",
       "      <td>127.0</td>\n",
       "      <td>2.80</td>\n",
       "      <td>3.06</td>\n",
       "      <td>0.28</td>\n",
       "      <td>2.29</td>\n",
       "      <td>5.64</td>\n",
       "      <td>1.04</td>\n",
       "      <td>3.92</td>\n",
       "      <td>1065.0</td>\n",
       "      <td>0.0</td>\n",
       "      <td>1.421053</td>\n",
       "    </tr>\n",
       "    <tr>\n",
       "      <th>1</th>\n",
       "      <td>13.20</td>\n",
       "      <td>1.78</td>\n",
       "      <td>2.14</td>\n",
       "      <td>11.2</td>\n",
       "      <td>100.0</td>\n",
       "      <td>2.65</td>\n",
       "      <td>2.76</td>\n",
       "      <td>0.26</td>\n",
       "      <td>1.28</td>\n",
       "      <td>4.38</td>\n",
       "      <td>1.05</td>\n",
       "      <td>3.40</td>\n",
       "      <td>1050.0</td>\n",
       "      <td>0.0</td>\n",
       "      <td>1.202247</td>\n",
       "    </tr>\n",
       "    <tr>\n",
       "      <th>2</th>\n",
       "      <td>13.16</td>\n",
       "      <td>2.36</td>\n",
       "      <td>2.67</td>\n",
       "      <td>18.6</td>\n",
       "      <td>101.0</td>\n",
       "      <td>2.80</td>\n",
       "      <td>3.24</td>\n",
       "      <td>0.30</td>\n",
       "      <td>2.81</td>\n",
       "      <td>5.68</td>\n",
       "      <td>1.03</td>\n",
       "      <td>3.17</td>\n",
       "      <td>1185.0</td>\n",
       "      <td>0.0</td>\n",
       "      <td>1.131356</td>\n",
       "    </tr>\n",
       "  </tbody>\n",
       "</table>\n",
       "</div>"
      ],
      "text/plain": [
       "   alcohol  malic_acid   ash  alcalinity_of_ash  magnesium  total_phenols  \\\n",
       "0    14.23        1.71  2.43               15.6      127.0           2.80   \n",
       "1    13.20        1.78  2.14               11.2      100.0           2.65   \n",
       "2    13.16        2.36  2.67               18.6      101.0           2.80   \n",
       "\n",
       "   flavanoids  nonflavanoid_phenols  proanthocyanins  color_intensity   hue  \\\n",
       "0        3.06                  0.28             2.29             5.64  1.04   \n",
       "1        2.76                  0.26             1.28             4.38  1.05   \n",
       "2        3.24                  0.30             2.81             5.68  1.03   \n",
       "\n",
       "   od280/od315_of_diluted_wines  proline  target  ash_to_malic_acid  \n",
       "0                          3.92   1065.0     0.0           1.421053  \n",
       "1                          3.40   1050.0     0.0           1.202247  \n",
       "2                          3.17   1185.0     0.0           1.131356  "
      ]
     },
     "execution_count": 47,
     "metadata": {},
     "output_type": "execute_result"
    }
   ],
   "source": [
    "### create a new column that is the ratio of ash to malic acid and name it\n",
    "### ash_to_malic_acid\n",
    "\n",
    "# code goes here\n",
    "df[\"ash_to_malic_acid\"] = df[\"ash\"]/df[\"malic_acid\"]\n",
    "df.head(3)"
   ]
  },
  {
   "cell_type": "code",
   "execution_count": null,
   "metadata": {},
   "outputs": [],
   "source": []
  }
 ],
 "metadata": {
  "kernelspec": {
   "display_name": "Python 3",
   "language": "python",
   "name": "python3"
  },
  "language_info": {
   "codemirror_mode": {
    "name": "ipython",
    "version": 3
   },
   "file_extension": ".py",
   "mimetype": "text/x-python",
   "name": "python",
   "nbconvert_exporter": "python",
   "pygments_lexer": "ipython3",
   "version": "3.6.4"
  }
 },
 "nbformat": 4,
 "nbformat_minor": 2
}
